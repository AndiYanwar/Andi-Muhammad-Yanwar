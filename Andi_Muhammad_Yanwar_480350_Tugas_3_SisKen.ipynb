{
  "nbformat": 4,
  "nbformat_minor": 0,
  "metadata": {
    "colab": {
      "provenance": []
    },
    "kernelspec": {
      "name": "python3",
      "display_name": "Python 3"
    },
    "language_info": {
      "name": "python"
    }
  },
  "cells": [
    {
      "cell_type": "markdown",
      "source": [
        "##Nama : Andi Muhammad Yanwar\n",
        "##NIM : 21/480350/PA/20863\n",
        "\n",
        "\n",
        "###Tugas 3 Sistem Kendali"
      ],
      "metadata": {
        "id": "n8NDm7ICyFeJ"
      }
    },
    {
      "cell_type": "code",
      "execution_count": 7,
      "metadata": {
        "colab": {
          "base_uri": "https://localhost:8080/"
        },
        "id": "EQ6m0cjxsijy",
        "outputId": "04d8d809-892b-415f-aeeb-040a82156034"
      },
      "outputs": [
        {
          "output_type": "stream",
          "name": "stdout",
          "text": [
            "Looking in indexes: https://pypi.org/simple, https://us-python.pkg.dev/colab-wheels/public/simple/\n",
            "Collecting tbcontrol\n",
            "  Downloading tbcontrol-0.2.1-py3-none-any.whl (24 kB)\n",
            "Requirement already satisfied: packaging in /usr/local/lib/python3.8/dist-packages (from tbcontrol) (23.0)\n",
            "Requirement already satisfied: scipy in /usr/local/lib/python3.8/dist-packages (from tbcontrol) (1.10.1)\n",
            "Requirement already satisfied: tqdm in /usr/local/lib/python3.8/dist-packages (from tbcontrol) (4.64.1)\n",
            "Requirement already satisfied: numpy in /usr/local/lib/python3.8/dist-packages (from tbcontrol) (1.22.4)\n",
            "Installing collected packages: tbcontrol\n",
            "Successfully installed tbcontrol-0.2.1\n"
          ]
        }
      ],
      "source": [
        "%pip install tbcontrol"
      ]
    },
    {
      "cell_type": "code",
      "source": [
        "import numpy as np\n",
        "import sympy as sp\n",
        "sp.init_printing()\n",
        "from tbcontrol.symbolic import routh as rt\n",
        "from IPython.core.interactiveshell import InteractiveShell\n",
        "InteractiveShell.ast_node_interactivity = 'all'\n",
        "from ipywidgets import interact"
      ],
      "metadata": {
        "id": "IOSBCQXVw-rc"
      },
      "execution_count": 8,
      "outputs": []
    },
    {
      "cell_type": "code",
      "source": [
        "s = sp.Symbol('s')\n",
        "G = 700/((s+15)*(s**2+4*s+500))\n",
        "G"
      ],
      "metadata": {
        "colab": {
          "base_uri": "https://localhost:8080/",
          "height": 55
        },
        "id": "8qyeGFDoxFfY",
        "outputId": "f7874797-866c-45a4-c2cc-fe30e6ecde3a"
      },
      "execution_count": 9,
      "outputs": [
        {
          "output_type": "execute_result",
          "data": {
            "text/plain": [
              "           700           \n",
              "─────────────────────────\n",
              "         ⎛ 2            ⎞\n",
              "(s + 15)⋅⎝s  + 4⋅s + 500⎠"
            ],
            "image/png": "[encoded data removed]",
            "text/latex": "$\\displaystyle \\frac{700}{\\left(s + 15\\right) \\left(s^{2} + 4 s + 500\\right)}$"
          },
          "metadata": {},
          "execution_count": 9
        }
      ]
    },
    {
      "cell_type": "code",
      "source": [
        "poly = sp.denom(G)\n",
        "poly\n",
        "roots = sp.solve(poly.as_poly())\n",
        "roots"
      ],
      "metadata": {
        "colab": {
          "base_uri": "https://localhost:8080/",
          "height": 69
        },
        "id": "hdi9EbInxYKk",
        "outputId": "c65fe18b-3e2f-40d9-bc07-b1d32bf4f021"
      },
      "execution_count": 10,
      "outputs": [
        {
          "output_type": "execute_result",
          "data": {
            "text/plain": [
              "         ⎛ 2            ⎞\n",
              "(s + 15)⋅⎝s  + 4⋅s + 500⎠"
            ],
            "image/png": "[encoded data removed]",
            "text/latex": "$\\displaystyle \\left(s + 15\\right) \\left(s^{2} + 4 s + 500\\right)$"
          },
          "metadata": {},
          "execution_count": 10
        },
        {
          "output_type": "execute_result",
          "data": {
            "text/plain": [
              "[-15, -2 - 4⋅√31⋅ⅈ, -2 + 4⋅√31⋅ⅈ]"
            ],
            "image/png": "[encoded data removed]",
            "text/latex": "$\\displaystyle \\left[ -15, \\  -2 - 4 \\sqrt{31} i, \\  -2 + 4 \\sqrt{31} i\\right]$"
          },
          "metadata": {},
          "execution_count": 10
        }
      ]
    },
    {
      "cell_type": "code",
      "source": [
        "print('Pole s1 =')\n",
        "roots[0]\n",
        "print('Pole s2 =')\n",
        "roots[1]\n",
        "print('Pole s3 =')\n",
        "roots[2]"
      ],
      "metadata": {
        "colab": {
          "base_uri": "https://localhost:8080/",
          "height": 138
        },
        "id": "6PjwcQvzxdlj",
        "outputId": "8760bbe4-41da-4248-f29b-96e95b2af9b9"
      },
      "execution_count": 11,
      "outputs": [
        {
          "output_type": "stream",
          "name": "stdout",
          "text": [
            "Pole s1 =\n"
          ]
        },
        {
          "output_type": "execute_result",
          "data": {
            "text/plain": [
              "-15"
            ],
            "image/png": "[encoded data removed]",
            "text/latex": "$\\displaystyle -15$"
          },
          "metadata": {},
          "execution_count": 11
        },
        {
          "output_type": "stream",
          "name": "stdout",
          "text": [
            "Pole s2 =\n"
          ]
        },
        {
          "output_type": "execute_result",
          "data": {
            "text/plain": [
              "-2 - 4⋅√31⋅ⅈ"
            ],
            "image/png": "[encoded data removed]",
            "text/latex": "$\\displaystyle -2 - 4 \\sqrt{31} i$"
          },
          "metadata": {},
          "execution_count": 11
        },
        {
          "output_type": "stream",
          "name": "stdout",
          "text": [
            "Pole s3 =\n"
          ]
        },
        {
          "output_type": "execute_result",
          "data": {
            "text/plain": [
              "-2 + 4⋅√31⋅ⅈ"
            ],
            "image/png": "[encoded data removed]",
            "text/latex": "$\\displaystyle -2 + 4 \\sqrt{31} i$"
          },
          "metadata": {},
          "execution_count": 11
        }
      ]
    },
    {
      "cell_type": "code",
      "source": [
        "routh = rt(poly.as_poly())\n",
        "routh"
      ],
      "metadata": {
        "colab": {
          "base_uri": "https://localhost:8080/",
          "height": 98
        },
        "id": "79YtQ8wcxji2",
        "outputId": "2b0177bd-5f15-4567-f18f-e346a53b731a"
      },
      "execution_count": 12,
      "outputs": [
        {
          "output_type": "execute_result",
          "data": {
            "text/plain": [
              "⎡ 1    560 ⎤\n",
              "⎢          ⎥\n",
              "⎢ 19   7500⎥\n",
              "⎢          ⎥\n",
              "⎢3140      ⎥\n",
              "⎢────   0  ⎥\n",
              "⎢ 19       ⎥\n",
              "⎢          ⎥\n",
              "⎣7500   0  ⎦"
            ],
            "text/latex": "$\\displaystyle \\left[\\begin{matrix}1 & 560\\\\19 & 7500\\\\\\frac{3140}{19} & 0\\\\7500 & 0\\end{matrix}\\right]$"
          },
          "metadata": {},
          "execution_count": 12
        }
      ]
    },
    {
      "cell_type": "code",
      "source": [
        "tabel = np.array(routh)\n",
        "stabil = 1\n",
        "for i in range(len(tabel)):\n",
        "        if tabel[i][0] < 0:\n",
        "            stabil = 0\n",
        "            break\n",
        "if stabil == 1:\n",
        "    print(\"Sistem stabil karena semua nilai di kolom pertama positif\")\n",
        "else:\n",
        "    print(\"Sistem tidak stabil karena ada nilai negatif di kolom pertama\")"
      ],
      "metadata": {
        "colab": {
          "base_uri": "https://localhost:8080/"
        },
        "id": "QLMdTU00xuZx",
        "outputId": "b0428824-dc69-4098-dfb5-2379537388c9"
      },
      "execution_count": 13,
      "outputs": [
        {
          "output_type": "stream",
          "name": "stdout",
          "text": [
            "Sistem stabil karena semua nilai di kolom pertama positif\n"
          ]
        }
      ]
    },
    {
      "cell_type": "markdown",
      "source": [
        "Membuat Program"
      ],
      "metadata": {
        "id": "m7xCcbmPxyJK"
      }
    },
    {
      "cell_type": "code",
      "source": [
        "k = int(input(\"Masukan nilai K = \"))\n",
        "Gs = k/((s*(s**2+s+1)*(s+2))+k)\n",
        "Us = sp.denom(Gs)\n",
        "tabel = rt(Us.as_poly())\n",
        "print(\"U(s) = \")\n",
        "Us\n",
        "print(\"Tabel Routh = \")\n",
        "tabel"
      ],
      "metadata": {
        "colab": {
          "base_uri": "https://localhost:8080/",
          "height": 195
        },
        "id": "xVJNM2FQx02j",
        "outputId": "3d0fa967-8223-46f7-9dcc-580722a239bc"
      },
      "execution_count": 14,
      "outputs": [
        {
          "output_type": "stream",
          "name": "stdout",
          "text": [
            "Masukan nilai K = 7\n",
            "U(s) = \n"
          ]
        },
        {
          "output_type": "execute_result",
          "data": {
            "text/plain": [
              "          ⎛ 2        ⎞    \n",
              "s⋅(s + 2)⋅⎝s  + s + 1⎠ + 7"
            ],
            "image/png": "[encoded data removed]",
            "text/latex": "$\\displaystyle s \\left(s + 2\\right) \\left(s^{2} + s + 1\\right) + 7$"
          },
          "metadata": {},
          "execution_count": 14
        },
        {
          "output_type": "stream",
          "name": "stdout",
          "text": [
            "Tabel Routh = \n"
          ]
        },
        {
          "output_type": "execute_result",
          "data": {
            "text/plain": [
              "⎡ 1   3  7⎤\n",
              "⎢         ⎥\n",
              "⎢ 3   2  0⎥\n",
              "⎢         ⎥\n",
              "⎢7/3  7  0⎥\n",
              "⎢         ⎥\n",
              "⎢-7   0  0⎥\n",
              "⎢         ⎥\n",
              "⎣ 7   0  0⎦"
            ],
            "text/latex": "$\\displaystyle \\left[\\begin{matrix}1 & 3 & 7\\\\3 & 2 & 0\\\\\\frac{7}{3} & 7 & 0\\\\-7 & 0 & 0\\\\7 & 0 & 0\\end{matrix}\\right]$"
          },
          "metadata": {},
          "execution_count": 14
        }
      ]
    }
  ]
}